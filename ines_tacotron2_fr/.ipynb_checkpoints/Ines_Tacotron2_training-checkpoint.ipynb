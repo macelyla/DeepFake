{
  "cells": [
    {
      "cell_type": "code",
      "execution_count": null,
      "id": "0fd082cd-84aa-4984-9071-2b97b50e6dfd",
      "metadata": {
        "id": "0fd082cd-84aa-4984-9071-2b97b50e6dfd"
      },
      "outputs": [],
      "source": [
        "import pandas as pd\n",
        "import os\n",
        "\n",
        "df = pd.read_csv('train.csv', delimiter='|')"
      ]
    },
    {
      "cell_type": "code",
      "execution_count": null,
      "id": "e18fd2bb-ed89-4383-943e-63c223e424d4",
      "metadata": {
        "id": "e18fd2bb-ed89-4383-943e-63c223e424d4"
      },
      "outputs": [],
      "source": [
        "import TTS"
      ]
    },
    {
      "cell_type": "code",
      "execution_count": null,
      "id": "aeab37e1-05d8-42a1-a9c6-812283ecbebe",
      "metadata": {
        "id": "aeab37e1-05d8-42a1-a9c6-812283ecbebe",
        "outputId": "8eb55d58-b425-4528-cafc-170f96fe6362"
      },
      "outputs": [
        {
          "data": {
            "text/html": [
              "<div>\n",
              "<style scoped>\n",
              "    .dataframe tbody tr th:only-of-type {\n",
              "        vertical-align: middle;\n",
              "    }\n",
              "\n",
              "    .dataframe tbody tr th {\n",
              "        vertical-align: top;\n",
              "    }\n",
              "\n",
              "    .dataframe thead th {\n",
              "        text-align: right;\n",
              "    }\n",
              "</style>\n",
              "<table border=\"1\" class=\"dataframe\">\n",
              "  <thead>\n",
              "    <tr style=\"text-align: right;\">\n",
              "      <th></th>\n",
              "      <th>wav_filename</th>\n",
              "      <th>wav_filesize</th>\n",
              "      <th>transcript</th>\n",
              "      <th>transcript_wav2vec</th>\n",
              "      <th>levenshtein</th>\n",
              "      <th>duration</th>\n",
              "      <th>num_words</th>\n",
              "      <th>client_id</th>\n",
              "    </tr>\n",
              "  </thead>\n",
              "  <tbody>\n",
              "    <tr>\n",
              "      <th>0</th>\n",
              "      <td>train/audio/1840/6610/1840_6610_004677.wav</td>\n",
              "      <td>693646</td>\n",
              "      <td>Madame de Maufrigneuse était à demi pensive: m...</td>\n",
              "      <td>madame de maufrigneuse était à demi pensive mê...</td>\n",
              "      <td>0.945000</td>\n",
              "      <td>15.727937</td>\n",
              "      <td>28</td>\n",
              "      <td>1840</td>\n",
              "    </tr>\n",
              "    <tr>\n",
              "      <th>1</th>\n",
              "      <td>train/audio/1840/5824/1840_5824_000382.wav</td>\n",
              "      <td>567404</td>\n",
              "      <td>Sylvie habitait le deuxième étage de sa maison...</td>\n",
              "      <td>sylvie habitait le deuxième étage de sa maison...</td>\n",
              "      <td>0.973958</td>\n",
              "      <td>12.865306</td>\n",
              "      <td>31</td>\n",
              "      <td>1840</td>\n",
              "    </tr>\n",
              "    <tr>\n",
              "      <th>2</th>\n",
              "      <td>train/audio/1840/974/1840_974_001233.wav</td>\n",
              "      <td>578924</td>\n",
              "      <td>On pouvait espérer qu'en choisissant un terrai...</td>\n",
              "      <td>on pouvait espérer qu'en choisissant un terrai...</td>\n",
              "      <td>0.994253</td>\n",
              "      <td>13.126531</td>\n",
              "      <td>25</td>\n",
              "      <td>1840</td>\n",
              "    </tr>\n",
              "    <tr>\n",
              "      <th>3</th>\n",
              "      <td>train/audio/9804/10527/9804_10527_000300.wav</td>\n",
              "      <td>687886</td>\n",
              "      <td>Vous-même, affublé d'une fausse barbe et d'une...</td>\n",
              "      <td>vous-même affaiblez dune fausse barbe et dune ...</td>\n",
              "      <td>0.968254</td>\n",
              "      <td>15.597324</td>\n",
              "      <td>32</td>\n",
              "      <td>9804</td>\n",
              "    </tr>\n",
              "    <tr>\n",
              "      <th>4</th>\n",
              "      <td>train/audio/1840/974/1840_974_001486.wav</td>\n",
              "      <td>621164</td>\n",
              "      <td>Sur terre, en effet, ces animaux sont lourds, ...</td>\n",
              "      <td>sur terre en effet ces animaux sont lourds peu...</td>\n",
              "      <td>0.915152</td>\n",
              "      <td>14.084354</td>\n",
              "      <td>27</td>\n",
              "      <td>1840</td>\n",
              "    </tr>\n",
              "    <tr>\n",
              "      <th>...</th>\n",
              "      <td>...</td>\n",
              "      <td>...</td>\n",
              "      <td>...</td>\n",
              "      <td>...</td>\n",
              "      <td>...</td>\n",
              "      <td>...</td>\n",
              "      <td>...</td>\n",
              "      <td>...</td>\n",
              "    </tr>\n",
              "    <tr>\n",
              "      <th>107593</th>\n",
              "      <td>train/audio/1840/2830/1840_2830_002954-0005.wav</td>\n",
              "      <td>130604</td>\n",
              "      <td>Il en faisait une noce à ce moment-là!</td>\n",
              "      <td>il en faisait une noce à ce moment-là</td>\n",
              "      <td>1.000000</td>\n",
              "      <td>2.960544</td>\n",
              "      <td>7</td>\n",
              "      <td>1840</td>\n",
              "    </tr>\n",
              "    <tr>\n",
              "      <th>107594</th>\n",
              "      <td>train/audio/1840/2830/1840_2830_002954-0006.wav</td>\n",
              "      <td>69164</td>\n",
              "      <td>Mais ce n'est plus ça;</td>\n",
              "      <td>mais ce n'est plus ça</td>\n",
              "      <td>1.000000</td>\n",
              "      <td>1.567347</td>\n",
              "      <td>4</td>\n",
              "      <td>1840</td>\n",
              "    </tr>\n",
              "    <tr>\n",
              "      <th>107595</th>\n",
              "      <td>train/audio/1840/2830/1840_2830_002954-0007.wav</td>\n",
              "      <td>121004</td>\n",
              "      <td>il ne lui fait pas de queues</td>\n",
              "      <td>il ne lui fait pas de queue</td>\n",
              "      <td>0.964286</td>\n",
              "      <td>2.742857</td>\n",
              "      <td>6</td>\n",
              "      <td>1840</td>\n",
              "    </tr>\n",
              "    <tr>\n",
              "      <th>107596</th>\n",
              "      <td>train/audio/1840/4141/1840_4141_003614-0001.wav</td>\n",
              "      <td>238124</td>\n",
              "      <td>Comme une bête sauvage blessée, elle aimait la...</td>\n",
              "      <td>comme une bête sauvage blessée elle aimeit la ...</td>\n",
              "      <td>0.981481</td>\n",
              "      <td>5.398639</td>\n",
              "      <td>8</td>\n",
              "      <td>1840</td>\n",
              "    </tr>\n",
              "    <tr>\n",
              "      <th>107597</th>\n",
              "      <td>train/audio/1840/4141/1840_4141_003614-0002.wav</td>\n",
              "      <td>510764</td>\n",
              "      <td>elle se perdait dans les grottes, reparaissait...</td>\n",
              "      <td>elles se perdaiet dans les grottes reparaissai...</td>\n",
              "      <td>0.883117</td>\n",
              "      <td>11.580952</td>\n",
              "      <td>23</td>\n",
              "      <td>1840</td>\n",
              "    </tr>\n",
              "  </tbody>\n",
              "</table>\n",
              "<p>107598 rows × 8 columns</p>\n",
              "</div>"
            ],
            "text/plain": [
              "                                           wav_filename  wav_filesize  \\\n",
              "0            train/audio/1840/6610/1840_6610_004677.wav        693646   \n",
              "1            train/audio/1840/5824/1840_5824_000382.wav        567404   \n",
              "2              train/audio/1840/974/1840_974_001233.wav        578924   \n",
              "3          train/audio/9804/10527/9804_10527_000300.wav        687886   \n",
              "4              train/audio/1840/974/1840_974_001486.wav        621164   \n",
              "...                                                 ...           ...   \n",
              "107593  train/audio/1840/2830/1840_2830_002954-0005.wav        130604   \n",
              "107594  train/audio/1840/2830/1840_2830_002954-0006.wav         69164   \n",
              "107595  train/audio/1840/2830/1840_2830_002954-0007.wav        121004   \n",
              "107596  train/audio/1840/4141/1840_4141_003614-0001.wav        238124   \n",
              "107597  train/audio/1840/4141/1840_4141_003614-0002.wav        510764   \n",
              "\n",
              "                                               transcript  \\\n",
              "0       Madame de Maufrigneuse était à demi pensive: m...   \n",
              "1       Sylvie habitait le deuxième étage de sa maison...   \n",
              "2       On pouvait espérer qu'en choisissant un terrai...   \n",
              "3       Vous-même, affublé d'une fausse barbe et d'une...   \n",
              "4       Sur terre, en effet, ces animaux sont lourds, ...   \n",
              "...                                                   ...   \n",
              "107593             Il en faisait une noce à ce moment-là!   \n",
              "107594                             Mais ce n'est plus ça;   \n",
              "107595                       il ne lui fait pas de queues   \n",
              "107596  Comme une bête sauvage blessée, elle aimait la...   \n",
              "107597  elle se perdait dans les grottes, reparaissait...   \n",
              "\n",
              "                                       transcript_wav2vec  levenshtein  \\\n",
              "0       madame de maufrigneuse était à demi pensive mê...     0.945000   \n",
              "1       sylvie habitait le deuxième étage de sa maison...     0.973958   \n",
              "2       on pouvait espérer qu'en choisissant un terrai...     0.994253   \n",
              "3       vous-même affaiblez dune fausse barbe et dune ...     0.968254   \n",
              "4       sur terre en effet ces animaux sont lourds peu...     0.915152   \n",
              "...                                                   ...          ...   \n",
              "107593              il en faisait une noce à ce moment-là     1.000000   \n",
              "107594                              mais ce n'est plus ça     1.000000   \n",
              "107595                        il ne lui fait pas de queue     0.964286   \n",
              "107596  comme une bête sauvage blessée elle aimeit la ...     0.981481   \n",
              "107597  elles se perdaiet dans les grottes reparaissai...     0.883117   \n",
              "\n",
              "         duration  num_words  client_id  \n",
              "0       15.727937         28       1840  \n",
              "1       12.865306         31       1840  \n",
              "2       13.126531         25       1840  \n",
              "3       15.597324         32       9804  \n",
              "4       14.084354         27       1840  \n",
              "...           ...        ...        ...  \n",
              "107593   2.960544          7       1840  \n",
              "107594   1.567347          4       1840  \n",
              "107595   2.742857          6       1840  \n",
              "107596   5.398639          8       1840  \n",
              "107597  11.580952         23       1840  \n",
              "\n",
              "[107598 rows x 8 columns]"
            ]
          },
          "execution_count": 3,
          "metadata": {},
          "output_type": "execute_result"
        }
      ],
      "source": [
        "df"
      ]
    },
    {
      "cell_type": "code",
      "execution_count": null,
      "id": "7cf057b6-37f7-443a-b918-0d2fc62098ba",
      "metadata": {
        "id": "7cf057b6-37f7-443a-b918-0d2fc62098ba",
        "outputId": "12ba5419-df39-49a6-89d0-383194872141"
      },
      "outputs": [
        {
          "name": "stderr",
          "output_type": "stream",
          "text": [
            "/home/ihernandez/.local/lib/python3.9/site-packages/pandas/core/computation/expressions.py:20: UserWarning: Pandas requires version '2.7.3' or newer of 'numexpr' (version '2.7.2' currently installed).\n",
            "  from pandas.core.computation.check import NUMEXPR_INSTALLED\n",
            "/home/ihernandez/.local/lib/python3.9/site-packages/pandas/core/arrays/masked.py:59: UserWarning: Pandas requires version '1.3.2' or newer of 'bottleneck' (version '1.2.1' currently installed).\n",
            "  from pandas.core import (\n"
          ]
        }
      ],
      "source": [
        "from trainer import Trainer, TrainerArgs\n",
        "\n",
        "# GlowTTSConfig: all model related values for training, validating and testing.\n",
        "from TTS.tts.configs.tacotron2_config import Tacotron2Config\n",
        "\n",
        "# BaseDatasetConfig: defines name, formatter and path of the dataset.\n",
        "from TTS.tts.configs.shared_configs import BaseDatasetConfig\n",
        "from TTS.tts.datasets import load_tts_samples\n",
        "from TTS.tts.models.tacotron2 import Tacotron2\n",
        "from TTS.tts.utils.text.tokenizer import TTSTokenizer\n",
        "from TTS.utils.audio import AudioProcessor\n",
        "from TTS.config.shared_configs import BaseAudioConfig\n",
        "from TTS.tts.utils.speakers import SpeakerManager"
      ]
    },
    {
      "cell_type": "code",
      "execution_count": null,
      "id": "e252a221-a6c7-405e-bd1a-808474234667",
      "metadata": {
        "id": "e252a221-a6c7-405e-bd1a-808474234667"
      },
      "outputs": [],
      "source": [
        "from TTS.tts.configs.shared_configs import BaseDatasetConfig\n",
        "import os\n",
        "\n",
        "output_path = \"/srv/storage/idmctal@storage1.nancy.grid5000.fr/2023/m2/adrelingyte/data/french/cml_tts_dataset_french_v0.1\"\n",
        "if not os.path.exists(output_path):\n",
        "    os.makedirs(output_path)\n",
        "\n",
        "dataset_config= BaseDatasetConfig(formatter='ljspeech', dataset_name='', path=output_path, meta_file_train='train.csv',\n",
        "                                  ignored_speakers=None, language='fr', phonemizer='espeak', meta_file_val='', meta_file_attn_mask='')\n",
        "\n",
        "audio_config = BaseAudioConfig(sample_rate=24000, resample=True, do_trim_silence=True, trim_db=23.0)"
      ]
    },
    {
      "cell_type": "code",
      "execution_count": null,
      "id": "a79510be-3414-492c-9c34-8a0a071d34ef",
      "metadata": {
        "id": "a79510be-3414-492c-9c34-8a0a071d34ef",
        "outputId": "ac4dab77-3d3e-4068-8abf-2ef49b4b7f87"
      },
      "outputs": [
        {
          "name": "stdout",
          "output_type": "stream",
          "text": [
            "BaseAudioConfig(fft_size=1024, win_length=1024, hop_length=256, frame_shift_ms=None, frame_length_ms=None, stft_pad_mode='reflect', sample_rate=24000, resample=True, preemphasis=0.0, ref_level_db=20, do_sound_norm=False, log_func='np.log10', do_trim_silence=True, trim_db=23.0, do_rms_norm=False, db_level=None, power=1.5, griffin_lim_iters=60, num_mels=80, mel_fmin=0.0, mel_fmax=None, spec_gain=20, do_amp_to_db_linear=True, do_amp_to_db_mel=True, pitch_fmax=640.0, pitch_fmin=1.0, signal_norm=True, min_level_db=-100, symmetric_norm=True, max_norm=4.0, clip_norm=True, stats_path=None)\n"
          ]
        }
      ],
      "source": [
        "print(audio_config)"
      ]
    },
    {
      "cell_type": "code",
      "execution_count": null,
      "id": "4829d2ef-9554-470e-b400-734b880b0dc1",
      "metadata": {
        "id": "4829d2ef-9554-470e-b400-734b880b0dc1"
      },
      "outputs": [],
      "source": [
        "config = Tacotron2Config(\n",
        "    batch_size=32,\n",
        "    eval_batch_size=16,\n",
        "    num_loader_workers=4,\n",
        "    num_eval_loader_workers=4,\n",
        "    precompute_num_workers=4,\n",
        "    run_eval=True,\n",
        "    test_delay_epochs=-1,\n",
        "    epochs=100,\n",
        "    use_phonemes=True,\n",
        "    phonemizer=\"gruut\",\n",
        "    phoneme_language=\"fr-fr\",\n",
        "    phoneme_cache_path=os.path.join(output_path, \"phoneme_cache2\"),\n",
        "    print_step=25,\n",
        "    print_eval=False,\n",
        "    mixed_precision=True,\n",
        "    output_path=output_path,\n",
        "    datasets=[dataset_config],\n",
        "    use_speaker_embedding=True,\n",
        "    min_text_len=0,\n",
        "    max_text_len=500,\n",
        "    min_audio_len=100000,\n",
        "    max_audio_len=400000,\n",
        ")"
      ]
    },
    {
      "cell_type": "code",
      "execution_count": null,
      "id": "5e7fc989-81ff-4ef0-b974-6cf90a2d0205",
      "metadata": {
        "id": "5e7fc989-81ff-4ef0-b974-6cf90a2d0205",
        "outputId": "2ae773d4-62fc-4dc2-8a0c-38611321545f"
      },
      "outputs": [
        {
          "name": "stdout",
          "output_type": "stream",
          "text": [
            "Tacotron2Config(output_path='/srv/storage/idmctal@storage1.nancy.grid5000.fr/2023/m2/adrelingyte/data/french/cml_tts_dataset_french_v0.1', logger_uri=None, run_name='run', project_name=None, run_description='🐸Coqui trainer run.', print_step=25, plot_step=100, model_param_stats=False, wandb_entity=None, dashboard_logger='tensorboard', save_on_interrupt=True, log_model_step=10000, save_step=10000, save_n_checkpoints=5, save_checkpoints=True, save_all_best=False, save_best_after=10000, target_loss=None, print_eval=False, test_delay_epochs=-1, run_eval=True, run_eval_steps=None, distributed_backend='nccl', distributed_url='tcp://localhost:54321', mixed_precision=True, precision='fp16', epochs=100, batch_size=32, eval_batch_size=16, grad_clip=5.0, scheduler_after_epoch=True, lr=0.0001, optimizer='RAdam', optimizer_params={'betas': [0.9, 0.998], 'weight_decay': 1e-06}, lr_scheduler='NoamLR', lr_scheduler_params={'warmup_steps': 4000}, use_grad_scaler=False, allow_tf32=False, cudnn_enable=True, cudnn_deterministic=False, cudnn_benchmark=False, training_seed=54321, model='tacotron2', num_loader_workers=4, num_eval_loader_workers=4, use_noise_augment=False, audio=BaseAudioConfig(fft_size=2048, win_length=1200, hop_length=256, frame_shift_ms=None, frame_length_ms=None, stft_pad_mode='reflect', sample_rate=22050, resample=False, preemphasis=0.0, ref_level_db=20, do_sound_norm=False, log_func='np.log10', do_trim_silence=True, trim_db=45, do_rms_norm=False, db_level=None, power=1.5, griffin_lim_iters=60, num_mels=80, mel_fmin=0.0, mel_fmax=None, spec_gain=20, do_amp_to_db_linear=True, do_amp_to_db_mel=True, pitch_fmax=640.0, pitch_fmin=1.0, signal_norm=True, min_level_db=-100, symmetric_norm=True, max_norm=4.0, clip_norm=True, stats_path=None), use_phonemes=True, phonemizer='gruut', phoneme_language='fr-fr', compute_input_seq_cache=False, text_cleaner=None, enable_eos_bos_chars=False, test_sentences_file='', phoneme_cache_path='/srv/storage/idmctal@storage1.nancy.grid5000.fr/2023/m2/adrelingyte/data/french/cml_tts_dataset_french_v0.1/phoneme_cache2', characters=CharactersConfig(characters_class='TTS.tts.utils.text.characters.IPAPhonemes', vocab_dict=None, pad='<PAD>', eos='<EOS>', bos='<BOS>', blank='<BLNK>', characters='iyɨʉɯuɪʏʊeøɘəɵɤoɛœɜɞʌɔæɐaɶɑɒᵻʘɓǀɗǃʄǂɠǁʛpbtdʈɖcɟkɡqɢʔɴŋɲɳnɱmʙrʀⱱɾɽɸβfvθðszʃʒʂʐçʝxɣχʁħʕhɦɬɮʋɹɻjɰlɭʎʟˈˌːˑʍwɥʜʢʡɕʑɺɧʲɚ˞ɫ', punctuations=\"!'(),-.:;? \", phonemes=None, is_unique=False, is_sorted=True), add_blank=False, batch_group_size=0, loss_masking=True, min_audio_len=100000, max_audio_len=400000, min_text_len=0, max_text_len=500, compute_f0=False, compute_energy=False, compute_linear_spec=False, precompute_num_workers=4, start_by_longest=False, shuffle=False, drop_last=False, datasets=[BaseDatasetConfig(formatter='ljspeech', dataset_name='', path='/srv/storage/idmctal@storage1.nancy.grid5000.fr/2023/m2/adrelingyte/data/french/cml_tts_dataset_french_v0.1', meta_file_train='train.csv', ignored_speakers=None, language='fr', phonemizer='espeak', meta_file_val='', meta_file_attn_mask='')], test_sentences=[\"It took me quite a long time to develop a voice, and now that I have it I'm not going to be silent.\", 'Be a voice, not an echo.', \"I'm sorry Dave. I'm afraid I can't do that.\", \"This cake is great. It's so delicious and moist.\", 'Prior to November 22, 1963.'], eval_split_max_size=None, eval_split_size=0.01, use_speaker_weighted_sampler=False, speaker_weighted_sampler_alpha=1.0, use_language_weighted_sampler=False, language_weighted_sampler_alpha=1.0, use_length_weighted_sampler=False, length_weighted_sampler_alpha=1.0, use_gst=False, gst=None, gst_style_input=None, use_capacitron_vae=False, capacitron_vae=None, num_speakers=1, num_chars=131, r=2, gradual_training=None, memory_size=-1, prenet_type='original', prenet_dropout=True, prenet_dropout_at_inference=False, stopnet=True, separate_stopnet=True, stopnet_pos_weight=0.2, max_decoder_steps=10000, encoder_in_features=512, decoder_in_features=512, decoder_output_dim=80, out_channels=80, attention_type='original', attention_heads=None, attention_norm='sigmoid', attention_win=False, windowing=False, use_forward_attn=False, forward_attn_mask=False, transition_agent=False, location_attn=True, bidirectional_decoder=False, double_decoder_consistency=False, ddc_r=6, speakers_file='/srv/storage/idmctal@storage1.nancy.grid5000.fr/2023/m2/adrelingyte/data/french/cml_tts_dataset_french_v0.1/run-November-01-2023_05+53PM-b417916/speakers.pth', use_speaker_embedding=True, speaker_embedding_dim=512, use_d_vector_file=False, d_vector_file=False, d_vector_dim=None, seq_len_norm=False, decoder_loss_alpha=0.25, postnet_loss_alpha=0.25, postnet_diff_spec_alpha=0.25, decoder_diff_spec_alpha=0.25, decoder_ssim_alpha=0.25, postnet_ssim_alpha=0.25, ga_alpha=5.0)\n"
          ]
        }
      ],
      "source": [
        "print(config)"
      ]
    },
    {
      "cell_type": "code",
      "execution_count": null,
      "id": "21001498-f5c4-4db1-9a88-5fd50b57e78c",
      "metadata": {
        "id": "21001498-f5c4-4db1-9a88-5fd50b57e78c"
      },
      "outputs": [],
      "source": [
        "config.audio.fft_size = 2048\n",
        "config.audio.win_length = 1200\n",
        "config.audio.hop_length = 256\n",
        "config.audio.num_mels = 80\n",
        "config.audio.sample"
      ]
    },
    {
      "cell_type": "code",
      "execution_count": null,
      "id": "4f86e288-de4f-462a-9d74-5530fd452a2d",
      "metadata": {
        "id": "4f86e288-de4f-462a-9d74-5530fd452a2d",
        "outputId": "0629dc0a-7695-4d2d-d536-7987e61a7e98"
      },
      "outputs": [
        {
          "name": "stdout",
          "output_type": "stream",
          "text": [
            "/var/lib/oar/.batch_job_bashrc: line 5: /home/ihernandez/.bashrc: No such file or directory\n",
            "E: Could not open lock file /var/lib/dpkg/lock-frontend - open (13: Permission denied)\n",
            "E: Unable to acquire the dpkg frontend lock (/var/lib/dpkg/lock-frontend), are you root?\n"
          ]
        }
      ],
      "source": [
        "!apt-get install espeak-ng"
      ]
    },
    {
      "cell_type": "code",
      "execution_count": null,
      "id": "ced097c2-a9cb-41e2-b37b-8a95253a58de",
      "metadata": {
        "id": "ced097c2-a9cb-41e2-b37b-8a95253a58de",
        "outputId": "8dfd19d1-30b1-4fe5-ceb3-e5174fa8d6a3"
      },
      "outputs": [
        {
          "name": "stdout",
          "output_type": "stream",
          "text": [
            "BaseDatasetConfig(formatter='ljspeech2', dataset_name='', path='/srv/storage/idmctal@storage1.nancy.grid5000.fr/2023/m2/adrelingyte/data/french/cml_tts_dataset_french_v0.1', meta_file_train='train.csv', ignored_speakers=None, language='fr', phonemizer='espeak', meta_file_val='', meta_file_attn_mask='')\n"
          ]
        }
      ],
      "source": [
        "print(dataset_config)"
      ]
    },
    {
      "cell_type": "code",
      "execution_count": null,
      "id": "e83d72cf-8964-4d6e-b847-c7d72c447fca",
      "metadata": {
        "id": "e83d72cf-8964-4d6e-b847-c7d72c447fca",
        "outputId": "0a966242-d22e-42b5-b589-0550a8e18fc1"
      },
      "outputs": [
        {
          "name": "stdout",
          "output_type": "stream",
          "text": [
            " > Setting up Audio Processor...\n",
            " | > sample_rate:24000\n",
            " | > resample:True\n",
            " | > num_mels:80\n",
            " | > log_func:np.log10\n",
            " | > min_level_db:-100\n",
            " | > frame_shift_ms:None\n",
            " | > frame_length_ms:None\n",
            " | > ref_level_db:20\n",
            " | > fft_size:1024\n",
            " | > power:1.5\n",
            " | > preemphasis:0.0\n",
            " | > griffin_lim_iters:60\n",
            " | > signal_norm:True\n",
            " | > symmetric_norm:True\n",
            " | > mel_fmin:0\n",
            " | > mel_fmax:None\n",
            " | > pitch_fmin:1.0\n",
            " | > pitch_fmax:640.0\n",
            " | > spec_gain:20.0\n",
            " | > stft_pad_mode:reflect\n",
            " | > max_norm:4.0\n",
            " | > clip_norm:True\n",
            " | > do_trim_silence:True\n",
            " | > trim_db:23.0\n",
            " | > do_sound_norm:False\n",
            " | > do_amp_to_db_linear:True\n",
            " | > do_amp_to_db_mel:True\n",
            " | > do_rms_norm:False\n",
            " | > db_level:None\n",
            " | > stats_path:None\n",
            " | > base:10\n",
            " | > hop_length:256\n",
            " | > win_length:1024\n"
          ]
        }
      ],
      "source": [
        "ap = AudioProcessor.init_from_config(audio_config)"
      ]
    },
    {
      "cell_type": "code",
      "execution_count": null,
      "id": "fccb2ced-11fc-4514-a380-b34249c374d6",
      "metadata": {
        "id": "fccb2ced-11fc-4514-a380-b34249c374d6"
      },
      "outputs": [],
      "source": [
        "from TTS.tts.utils.text.tokenizer import TTSTokenizer\n",
        "tokenizer, config = TTSTokenizer.init_from_config(config)"
      ]
    },
    {
      "cell_type": "code",
      "execution_count": null,
      "id": "3839d5cd-f9cd-4145-9b3c-a8bef92f440c",
      "metadata": {
        "id": "3839d5cd-f9cd-4145-9b3c-a8bef92f440c",
        "outputId": "92c8e2e1-8254-4ef8-c80c-be2a12467806"
      },
      "outputs": [
        {
          "name": "stdout",
          "output_type": "stream",
          "text": [
            " | > Found 107598 files in /srv/storage/idmctal@storage1.nancy.grid5000.fr/2023/m2/adrelingyte/data/french/cml_tts_dataset_french_v0.1\n"
          ]
        }
      ],
      "source": [
        "train_samples, eval_samples = load_tts_samples(\n",
        "    dataset_config,\n",
        "    eval_split=True,\n",
        "    eval_split_max_size=config.eval_split_max_size,\n",
        "    eval_split_size=config.eval_split_size,\n",
        ")"
      ]
    },
    {
      "cell_type": "code",
      "execution_count": null,
      "id": "a10d950d-e803-4e0d-a31e-ea01abf26c2a",
      "metadata": {
        "id": "a10d950d-e803-4e0d-a31e-ea01abf26c2a",
        "outputId": "3d1b723c-16ee-4f25-f53a-d587b7351494"
      },
      "outputs": [
        {
          "name": "stdout",
          "output_type": "stream",
          "text": [
            " > Init speaker_embedding layer.\n"
          ]
        }
      ],
      "source": [
        "speaker_manager = SpeakerManager()\n",
        "speaker_manager.set_ids_from_data(train_samples + eval_samples, parse_key=\"speaker_name\")\n",
        "config.num_speakers = speaker_manager.num_speakers\n",
        "\n",
        "model = Tacotron2(config, ap, tokenizer, speaker_manager=speaker_manager)\n"
      ]
    },
    {
      "cell_type": "code",
      "execution_count": null,
      "id": "e740ea80-e619-432f-a6d7-541de06407eb",
      "metadata": {
        "id": "e740ea80-e619-432f-a6d7-541de06407eb",
        "outputId": "1e0379af-4286-4037-cd8e-23e60855df90"
      },
      "outputs": [
        {
          "name": "stderr",
          "output_type": "stream",
          "text": [
            " > Training Environment:\n",
            " | > Backend: Torch\n",
            " | > Mixed precision: True\n",
            " | > Precision: fp16\n",
            " | > Num. of CPUs: 32\n",
            " | > Num. of Torch Threads: 16\n",
            " | > Torch seed: 54321\n",
            " | > Torch CUDNN: True\n",
            " | > Torch CUDNN deterministic: False\n",
            " | > Torch CUDNN benchmark: False\n",
            " | > Torch TF32 MatMul: False\n",
            " > Start Tensorboard: tensorboard --logdir=/srv/storage/idmctal@storage1.nancy.grid5000.fr/2023/m2/adrelingyte/data/french/cml_tts_dataset_french_v0.1/run-November-01-2023_06+05PM-b417916\n",
            "\n",
            " > Model has 32649330 parameters\n"
          ]
        },
        {
          "name": "stdout",
          "output_type": "stream",
          "text": [
            " > `speakers.pth` is saved to /srv/storage/idmctal@storage1.nancy.grid5000.fr/2023/m2/adrelingyte/data/french/cml_tts_dataset_french_v0.1/run-November-01-2023_06+05PM-b417916/speakers.pth.\n",
            " > `speakers_file` is updated in the config.json.\n"
          ]
        }
      ],
      "source": [
        "trainer = Trainer(\n",
        "    TrainerArgs(), config, output_path, model=model, train_samples=train_samples, eval_samples=eval_samples\n",
        ")"
      ]
    },
    {
      "cell_type": "code",
      "execution_count": null,
      "id": "1aa17d1a-cc18-4fb6-8c75-1312620cc821",
      "metadata": {
        "id": "1aa17d1a-cc18-4fb6-8c75-1312620cc821",
        "outputId": "a3762ab3-1012-4341-9535-e2a4d8c71f35"
      },
      "outputs": [
        {
          "name": "stderr",
          "output_type": "stream",
          "text": [
            "\n",
            "\u001b[4m\u001b[1m > EPOCH: 0/100\u001b[0m\n",
            " --> /srv/storage/idmctal@storage1.nancy.grid5000.fr/2023/m2/adrelingyte/data/french/cml_tts_dataset_french_v0.1/run-November-01-2023_06+05PM-b417916\n"
          ]
        },
        {
          "name": "stdout",
          "output_type": "stream",
          "text": [
            "\n",
            "\n",
            "> DataLoader initialization\n",
            "| > Tokenizer:\n",
            "\t| > add_blank: False\n",
            "\t| > use_eos_bos: False\n",
            "\t| > use_phonemes: True\n",
            "\t| > phonemizer:\n",
            "\t\t| > phoneme language: fr-fr\n",
            "\t\t| > phoneme backend: gruut\n",
            "| > Number of instances : 106523\n"
          ]
        },
        {
          "name": "stderr",
          "output_type": "stream",
          "text": [
            "\n",
            "\u001b[1m > TRAINING (2023-11-01 18:05:45) \u001b[0m\n"
          ]
        },
        {
          "name": "stdout",
          "output_type": "stream",
          "text": [
            " | > Preprocessing samples\n",
            " | > Max text length: 325\n",
            " | > Min text length: 8\n",
            " | > Avg text length: 141.72574867290118\n",
            " | \n",
            " | > Max audio length: 399382.0\n",
            " | > Min audio length: 100821.0\n",
            " | > Avg audio length: 239262.54454204746\n",
            " | > Num. instances discarded samples: 21940\n",
            " | > Batch group size: 0.\n",
            "ela!  tut ʁɛzɔ̃ də divɛʁʒɑ̃s avɛk ɛm.\n",
            " [!] Character '̃' not found in the vocabulary. Discarding it.\n",
            "mɛ, tu ɑ̃ plɛzɑ̃tɑ̃t osi, lə pɛʁ ʁəfyzɛ.\n",
            " [!] Character '̃' not found in the vocabulary. Discarding it.\n",
            "ʃnɛl fyt œʁø sɑ̃z elve la mwɛ̃dʁ ɔbʒɛksjɔ̃.\n",
            " [!] Character '̃' not found in the vocabulary. Discarding it.\n",
            "ʒə nɔʁɛst sɛ pa si lə bʁamaputʁ okyp yn ɡʁɑ̃d plas dɑ̃ vo pɑ̃se.\n",
            " [!] Character '̃' not found in the vocabulary. Discarding it.\n",
            "di lysjɛ̃.  —ʒe de tʁezɔʁ, ty i pɥizəʁa.\n",
            " [!] Character '—' not found in the vocabulary. Discarding it.\n",
            "di lysjɛ̃.  —ʒe de tʁezɔʁ, ty i pɥizəʁa.\n",
            " [!] Character '—' not found in the vocabulary. Discarding it.\n",
            "di lysjɛ̃.  —ʒe de tʁezɔʁ, ty i pɥizəʁa.\n",
            " [!] Character '—' not found in the vocabulary. Discarding it.\n",
            "—, nuz apəlɔ̃z œ̃ kanaʁ\n",
            " [!] Character '—' not found in the vocabulary. Discarding it.\n"
          ]
        },
        {
          "name": "stderr",
          "output_type": "stream",
          "text": [
            "/home/ihernandez/.local/lib/python3.9/site-packages/torch/functional.py:504: UserWarning: torch.meshgrid: in an upcoming release, it will be required to pass the indexing argument. (Triggered internally at ../aten/src/ATen/native/TensorShape.cpp:3483.)\n",
            "  return _VF.meshgrid(tensors, **kwargs)  # type: ignore[attr-defined]\n",
            "\n",
            "\u001b[1m   --> TIME: 2023-11-01 18:16:19 -- STEP: 0/2644 -- GLOBAL_STEP: 0\u001b[0m\n",
            "     | > decoder_loss: 5.956602573394775  (5.956602573394775)\n",
            "     | > postnet_loss: 7.947103500366211  (7.947103500366211)\n",
            "     | > stopnet_loss: 0.5787264704704285  (0.5787264704704285)\n",
            "     | > ga_loss: 0.007436789106577635  (0.007436789106577635)\n",
            "     | > decoder_diff_spec_loss: 0.227020263671875  (0.227020263671875)\n",
            "     | > postnet_diff_spec_loss: 4.239441394805908  (4.239441394805908)\n",
            "     | > decoder_ssim_loss: 0.87890625  (0.87890625)\n",
            "     | > postnet_ssim_loss: 0.7734375  (0.7734375)\n",
            "     | > loss: 5.621537685394287  (5.621537685394287)\n",
            "     | > align_error: 0.9820556640625  (0.9820556640625)\n",
            "     | > grad_norm: tensor(4.3870)  (tensor(4.3870))\n",
            "     | > current_lr: 2.5000000000000002e-08 \n",
            "     | > step_time: 531.2294  (531.229428768158)\n",
            "     | > loader_time: 102.9411  (102.94106411933899)\n",
            "\n",
            " ! Run is kept in /srv/storage/idmctal@storage1.nancy.grid5000.fr/2023/m2/adrelingyte/data/french/cml_tts_dataset_french_v0.1/run-November-01-2023_06+05PM-b417916\n",
            "Traceback (most recent call last):\n",
            "  File \"/home/ihernandez/.local/lib/python3.9/site-packages/trainer/trainer.py\", line 1808, in fit\n",
            "    self._fit()\n",
            "  File \"/home/ihernandez/.local/lib/python3.9/site-packages/trainer/trainer.py\", line 1760, in _fit\n",
            "    self.train_epoch()\n",
            "  File \"/home/ihernandez/.local/lib/python3.9/site-packages/trainer/trainer.py\", line 1488, in train_epoch\n",
            "    outputs, _ = self.train_step(batch, batch_num_steps, cur_step, loader_start_time)\n",
            "  File \"/home/ihernandez/.local/lib/python3.9/site-packages/trainer/trainer.py\", line 1457, in train_step\n",
            "    self.update_training_dashboard_logger(batch=batch, outputs=outputs)\n",
            "  File \"/home/ihernandez/.local/lib/python3.9/site-packages/trainer/utils/distributed.py\", line 35, in wrapped_fn\n",
            "    return fn(*args, **kwargs)\n",
            "  File \"/home/ihernandez/.local/lib/python3.9/site-packages/trainer/trainer.py\", line 1950, in update_training_dashboard_logger\n",
            "    self.model.train_log(\n",
            "  File \"/home/ihernandez/.local/lib/python3.9/site-packages/TTS/tts/models/tacotron2.py\", line 407, in train_log\n",
            "    figures, audios = self._create_logs(batch, outputs, self.ap)\n",
            "  File \"/home/ihernandez/.local/lib/python3.9/site-packages/TTS/tts/models/tacotron2.py\", line 386, in _create_logs\n",
            "    pred_spec = postnet_outputs[0].data.cpu().numpy()\n",
            "TypeError: Got unsupported ScalarType BFloat16\n",
            "ERROR:root:Internal Python error in the inspect module.\n",
            "Below is the traceback from this internal error.\n",
            "\n"
          ]
        },
        {
          "name": "stdout",
          "output_type": "stream",
          "text": [
            "Traceback (most recent call last):\n",
            "  File \"/home/ihernandez/.local/lib/python3.9/site-packages/trainer/trainer.py\", line 1808, in fit\n",
            "    self._fit()\n",
            "  File \"/home/ihernandez/.local/lib/python3.9/site-packages/trainer/trainer.py\", line 1760, in _fit\n",
            "    self.train_epoch()\n",
            "  File \"/home/ihernandez/.local/lib/python3.9/site-packages/trainer/trainer.py\", line 1488, in train_epoch\n",
            "    outputs, _ = self.train_step(batch, batch_num_steps, cur_step, loader_start_time)\n",
            "  File \"/home/ihernandez/.local/lib/python3.9/site-packages/trainer/trainer.py\", line 1457, in train_step\n",
            "    self.update_training_dashboard_logger(batch=batch, outputs=outputs)\n",
            "  File \"/home/ihernandez/.local/lib/python3.9/site-packages/trainer/utils/distributed.py\", line 35, in wrapped_fn\n",
            "    return fn(*args, **kwargs)\n",
            "  File \"/home/ihernandez/.local/lib/python3.9/site-packages/trainer/trainer.py\", line 1950, in update_training_dashboard_logger\n",
            "    self.model.train_log(\n",
            "  File \"/home/ihernandez/.local/lib/python3.9/site-packages/TTS/tts/models/tacotron2.py\", line 407, in train_log\n",
            "    figures, audios = self._create_logs(batch, outputs, self.ap)\n",
            "  File \"/home/ihernandez/.local/lib/python3.9/site-packages/TTS/tts/models/tacotron2.py\", line 386, in _create_logs\n",
            "    pred_spec = postnet_outputs[0].data.cpu().numpy()\n",
            "TypeError: Got unsupported ScalarType BFloat16\n",
            "\n",
            "During handling of the above exception, another exception occurred:\n",
            "\n",
            "Traceback (most recent call last):\n",
            "  File \"/opt/g5k-jupyterlab/lib/python3.9/site-packages/IPython/core/interactiveshell.py\", line 3457, in run_code\n",
            "    exec(code_obj, self.user_global_ns, self.user_ns)\n",
            "  File \"/tmp/ipykernel_40145/498936609.py\", line 1, in <module>\n",
            "    trainer.fit()\n",
            "  File \"/home/ihernandez/.local/lib/python3.9/site-packages/trainer/trainer.py\", line 1837, in fit\n",
            "    sys.exit(1)\n",
            "SystemExit: 1\n",
            "\n",
            "During handling of the above exception, another exception occurred:\n",
            "\n",
            "Traceback (most recent call last):\n",
            "  File \"/opt/g5k-jupyterlab/lib/python3.9/site-packages/IPython/core/ultratb.py\", line 1101, in get_records\n",
            "    return _fixed_getinnerframes(etb, number_of_lines_of_context, tb_offset)\n",
            "  File \"/opt/g5k-jupyterlab/lib/python3.9/site-packages/IPython/core/ultratb.py\", line 248, in wrapped\n",
            "    return f(*args, **kwargs)\n",
            "  File \"/opt/g5k-jupyterlab/lib/python3.9/site-packages/IPython/core/ultratb.py\", line 281, in _fixed_getinnerframes\n",
            "    records = fix_frame_records_filenames(inspect.getinnerframes(etb, context))\n",
            "  File \"/usr/lib/python3.9/inspect.py\", line 1541, in getinnerframes\n",
            "    frameinfo = (tb.tb_frame,) + getframeinfo(tb, context)\n",
            "AttributeError: 'tuple' object has no attribute 'tb_frame'\n"
          ]
        },
        {
          "ename": "TypeError",
          "evalue": "object of type 'NoneType' has no len()",
          "output_type": "error",
          "traceback": [
            "\u001b[0;31m---------------------------------------------------------------------------\u001b[0m",
            "\u001b[0;31mTypeError\u001b[0m                                 Traceback (most recent call last)",
            "\u001b[0;32m~/.local/lib/python3.9/site-packages/trainer/trainer.py\u001b[0m in \u001b[0;36mfit\u001b[0;34m(self)\u001b[0m\n\u001b[1;32m   1807\u001b[0m         \u001b[0;32mtry\u001b[0m\u001b[0;34m:\u001b[0m\u001b[0;34m\u001b[0m\u001b[0;34m\u001b[0m\u001b[0m\n\u001b[0;32m-> 1808\u001b[0;31m             \u001b[0mself\u001b[0m\u001b[0;34m.\u001b[0m\u001b[0m_fit\u001b[0m\u001b[0;34m(\u001b[0m\u001b[0;34m)\u001b[0m\u001b[0;34m\u001b[0m\u001b[0;34m\u001b[0m\u001b[0m\n\u001b[0m\u001b[1;32m   1809\u001b[0m             \u001b[0;32mif\u001b[0m \u001b[0mself\u001b[0m\u001b[0;34m.\u001b[0m\u001b[0margs\u001b[0m\u001b[0;34m.\u001b[0m\u001b[0mrank\u001b[0m \u001b[0;34m==\u001b[0m \u001b[0;36m0\u001b[0m\u001b[0;34m:\u001b[0m\u001b[0;34m\u001b[0m\u001b[0;34m\u001b[0m\u001b[0m\n",
            "\u001b[0;32m~/.local/lib/python3.9/site-packages/trainer/trainer.py\u001b[0m in \u001b[0;36m_fit\u001b[0;34m(self)\u001b[0m\n\u001b[1;32m   1759\u001b[0m             \u001b[0;32mif\u001b[0m \u001b[0;32mnot\u001b[0m \u001b[0mself\u001b[0m\u001b[0;34m.\u001b[0m\u001b[0mskip_train_epoch\u001b[0m \u001b[0;32mand\u001b[0m \u001b[0;32mnot\u001b[0m \u001b[0mself\u001b[0m\u001b[0;34m.\u001b[0m\u001b[0mstart_with_eval\u001b[0m\u001b[0;34m:\u001b[0m\u001b[0;34m\u001b[0m\u001b[0;34m\u001b[0m\u001b[0m\n\u001b[0;32m-> 1760\u001b[0;31m                 \u001b[0mself\u001b[0m\u001b[0;34m.\u001b[0m\u001b[0mtrain_epoch\u001b[0m\u001b[0;34m(\u001b[0m\u001b[0;34m)\u001b[0m\u001b[0;34m\u001b[0m\u001b[0;34m\u001b[0m\u001b[0m\n\u001b[0m\u001b[1;32m   1761\u001b[0m             \u001b[0;32mif\u001b[0m \u001b[0mself\u001b[0m\u001b[0;34m.\u001b[0m\u001b[0mconfig\u001b[0m\u001b[0;34m.\u001b[0m\u001b[0mrun_eval\u001b[0m\u001b[0;34m:\u001b[0m\u001b[0;34m\u001b[0m\u001b[0;34m\u001b[0m\u001b[0m\n",
            "\u001b[0;32m~/.local/lib/python3.9/site-packages/trainer/trainer.py\u001b[0m in \u001b[0;36mtrain_epoch\u001b[0;34m(self)\u001b[0m\n\u001b[1;32m   1487\u001b[0m         \u001b[0;32mfor\u001b[0m \u001b[0mcur_step\u001b[0m\u001b[0;34m,\u001b[0m \u001b[0mbatch\u001b[0m \u001b[0;32min\u001b[0m \u001b[0menumerate\u001b[0m\u001b[0;34m(\u001b[0m\u001b[0mself\u001b[0m\u001b[0;34m.\u001b[0m\u001b[0mtrain_loader\u001b[0m\u001b[0;34m)\u001b[0m\u001b[0;34m:\u001b[0m\u001b[0;34m\u001b[0m\u001b[0;34m\u001b[0m\u001b[0m\n\u001b[0;32m-> 1488\u001b[0;31m             \u001b[0moutputs\u001b[0m\u001b[0;34m,\u001b[0m \u001b[0m_\u001b[0m \u001b[0;34m=\u001b[0m \u001b[0mself\u001b[0m\u001b[0;34m.\u001b[0m\u001b[0mtrain_step\u001b[0m\u001b[0;34m(\u001b[0m\u001b[0mbatch\u001b[0m\u001b[0;34m,\u001b[0m \u001b[0mbatch_num_steps\u001b[0m\u001b[0;34m,\u001b[0m \u001b[0mcur_step\u001b[0m\u001b[0;34m,\u001b[0m \u001b[0mloader_start_time\u001b[0m\u001b[0;34m)\u001b[0m\u001b[0;34m\u001b[0m\u001b[0;34m\u001b[0m\u001b[0m\n\u001b[0m\u001b[1;32m   1489\u001b[0m             \u001b[0;32mif\u001b[0m \u001b[0moutputs\u001b[0m \u001b[0;32mis\u001b[0m \u001b[0;32mNone\u001b[0m\u001b[0;34m:\u001b[0m\u001b[0;34m\u001b[0m\u001b[0;34m\u001b[0m\u001b[0m\n",
            "\u001b[0;32m~/.local/lib/python3.9/site-packages/trainer/trainer.py\u001b[0m in \u001b[0;36mtrain_step\u001b[0;34m(self, batch, batch_n_steps, step, loader_start_time)\u001b[0m\n\u001b[1;32m   1456\u001b[0m                 \u001b[0;31m# log checkpoint as artifact\u001b[0m\u001b[0;34m\u001b[0m\u001b[0;34m\u001b[0m\u001b[0;34m\u001b[0m\u001b[0m\n\u001b[0;32m-> 1457\u001b[0;31m                 \u001b[0mself\u001b[0m\u001b[0;34m.\u001b[0m\u001b[0mupdate_training_dashboard_logger\u001b[0m\u001b[0;34m(\u001b[0m\u001b[0mbatch\u001b[0m\u001b[0;34m=\u001b[0m\u001b[0mbatch\u001b[0m\u001b[0;34m,\u001b[0m \u001b[0moutputs\u001b[0m\u001b[0;34m=\u001b[0m\u001b[0moutputs\u001b[0m\u001b[0;34m)\u001b[0m\u001b[0;34m\u001b[0m\u001b[0;34m\u001b[0m\u001b[0m\n\u001b[0m\u001b[1;32m   1458\u001b[0m \u001b[0;34m\u001b[0m\u001b[0m\n",
            "\u001b[0;32m~/.local/lib/python3.9/site-packages/trainer/utils/distributed.py\u001b[0m in \u001b[0;36mwrapped_fn\u001b[0;34m(*args, **kwargs)\u001b[0m\n\u001b[1;32m     34\u001b[0m         \u001b[0;32mif\u001b[0m \u001b[0mis_main_process\u001b[0m\u001b[0;34m(\u001b[0m\u001b[0;34m)\u001b[0m\u001b[0;34m:\u001b[0m\u001b[0;34m\u001b[0m\u001b[0;34m\u001b[0m\u001b[0m\n\u001b[0;32m---> 35\u001b[0;31m             \u001b[0;32mreturn\u001b[0m \u001b[0mfn\u001b[0m\u001b[0;34m(\u001b[0m\u001b[0;34m*\u001b[0m\u001b[0margs\u001b[0m\u001b[0;34m,\u001b[0m \u001b[0;34m**\u001b[0m\u001b[0mkwargs\u001b[0m\u001b[0;34m)\u001b[0m\u001b[0;34m\u001b[0m\u001b[0;34m\u001b[0m\u001b[0m\n\u001b[0m\u001b[1;32m     36\u001b[0m         \u001b[0;32mreturn\u001b[0m \u001b[0;32mNone\u001b[0m\u001b[0;34m\u001b[0m\u001b[0;34m\u001b[0m\u001b[0m\n",
            "\u001b[0;32m~/.local/lib/python3.9/site-packages/trainer/trainer.py\u001b[0m in \u001b[0;36mupdate_training_dashboard_logger\u001b[0;34m(self, batch, outputs)\u001b[0m\n\u001b[1;32m   1949\u001b[0m             \u001b[0;32melif\u001b[0m \u001b[0misimplemented\u001b[0m\u001b[0;34m(\u001b[0m\u001b[0mself\u001b[0m\u001b[0;34m.\u001b[0m\u001b[0mmodel\u001b[0m\u001b[0;34m,\u001b[0m \u001b[0;34m\"train_log\"\u001b[0m\u001b[0;34m)\u001b[0m\u001b[0;34m:\u001b[0m\u001b[0;34m\u001b[0m\u001b[0;34m\u001b[0m\u001b[0m\n\u001b[0;32m-> 1950\u001b[0;31m                 self.model.train_log(\n\u001b[0m\u001b[1;32m   1951\u001b[0m                     \u001b[0mbatch\u001b[0m\u001b[0;34m,\u001b[0m\u001b[0;34m\u001b[0m\u001b[0;34m\u001b[0m\u001b[0m\n",
            "\u001b[0;32m~/.local/lib/python3.9/site-packages/TTS/tts/models/tacotron2.py\u001b[0m in \u001b[0;36mtrain_log\u001b[0;34m(self, batch, outputs, logger, assets, steps)\u001b[0m\n\u001b[1;32m    406\u001b[0m         \u001b[0;34m\"\"\"Log training progress.\"\"\"\u001b[0m\u001b[0;34m\u001b[0m\u001b[0;34m\u001b[0m\u001b[0m\n\u001b[0;32m--> 407\u001b[0;31m         \u001b[0mfigures\u001b[0m\u001b[0;34m,\u001b[0m \u001b[0maudios\u001b[0m \u001b[0;34m=\u001b[0m \u001b[0mself\u001b[0m\u001b[0;34m.\u001b[0m\u001b[0m_create_logs\u001b[0m\u001b[0;34m(\u001b[0m\u001b[0mbatch\u001b[0m\u001b[0;34m,\u001b[0m \u001b[0moutputs\u001b[0m\u001b[0;34m,\u001b[0m \u001b[0mself\u001b[0m\u001b[0;34m.\u001b[0m\u001b[0map\u001b[0m\u001b[0;34m)\u001b[0m\u001b[0;34m\u001b[0m\u001b[0;34m\u001b[0m\u001b[0m\n\u001b[0m\u001b[1;32m    408\u001b[0m         \u001b[0mlogger\u001b[0m\u001b[0;34m.\u001b[0m\u001b[0mtrain_figures\u001b[0m\u001b[0;34m(\u001b[0m\u001b[0msteps\u001b[0m\u001b[0;34m,\u001b[0m \u001b[0mfigures\u001b[0m\u001b[0;34m)\u001b[0m\u001b[0;34m\u001b[0m\u001b[0;34m\u001b[0m\u001b[0m\n",
            "\u001b[0;32m~/.local/lib/python3.9/site-packages/TTS/tts/models/tacotron2.py\u001b[0m in \u001b[0;36m_create_logs\u001b[0;34m(self, batch, outputs, ap)\u001b[0m\n\u001b[1;32m    385\u001b[0m \u001b[0;34m\u001b[0m\u001b[0m\n\u001b[0;32m--> 386\u001b[0;31m         \u001b[0mpred_spec\u001b[0m \u001b[0;34m=\u001b[0m \u001b[0mpostnet_outputs\u001b[0m\u001b[0;34m[\u001b[0m\u001b[0;36m0\u001b[0m\u001b[0;34m]\u001b[0m\u001b[0;34m.\u001b[0m\u001b[0mdata\u001b[0m\u001b[0;34m.\u001b[0m\u001b[0mcpu\u001b[0m\u001b[0;34m(\u001b[0m\u001b[0;34m)\u001b[0m\u001b[0;34m.\u001b[0m\u001b[0mnumpy\u001b[0m\u001b[0;34m(\u001b[0m\u001b[0;34m)\u001b[0m\u001b[0;34m\u001b[0m\u001b[0;34m\u001b[0m\u001b[0m\n\u001b[0m\u001b[1;32m    387\u001b[0m         \u001b[0mgt_spec\u001b[0m \u001b[0;34m=\u001b[0m \u001b[0mmel_input\u001b[0m\u001b[0;34m[\u001b[0m\u001b[0;36m0\u001b[0m\u001b[0;34m]\u001b[0m\u001b[0;34m.\u001b[0m\u001b[0mdata\u001b[0m\u001b[0;34m.\u001b[0m\u001b[0mcpu\u001b[0m\u001b[0;34m(\u001b[0m\u001b[0;34m)\u001b[0m\u001b[0;34m.\u001b[0m\u001b[0mnumpy\u001b[0m\u001b[0;34m(\u001b[0m\u001b[0;34m)\u001b[0m\u001b[0;34m\u001b[0m\u001b[0;34m\u001b[0m\u001b[0m\n",
            "\u001b[0;31mTypeError\u001b[0m: Got unsupported ScalarType BFloat16",
            "\nDuring handling of the above exception, another exception occurred:\n",
            "\u001b[0;31mSystemExit\u001b[0m                                Traceback (most recent call last)",
            "    \u001b[0;31m[... skipping hidden 1 frame]\u001b[0m\n",
            "\u001b[0;32m/tmp/ipykernel_40145/498936609.py\u001b[0m in \u001b[0;36m<module>\u001b[0;34m\u001b[0m\n\u001b[0;32m----> 1\u001b[0;31m \u001b[0mtrainer\u001b[0m\u001b[0;34m.\u001b[0m\u001b[0mfit\u001b[0m\u001b[0;34m(\u001b[0m\u001b[0;34m)\u001b[0m\u001b[0;34m\u001b[0m\u001b[0;34m\u001b[0m\u001b[0m\n\u001b[0m",
            "\u001b[0;32m~/.local/lib/python3.9/site-packages/trainer/trainer.py\u001b[0m in \u001b[0;36mfit\u001b[0;34m(self)\u001b[0m\n\u001b[1;32m   1836\u001b[0m             \u001b[0mtraceback\u001b[0m\u001b[0;34m.\u001b[0m\u001b[0mprint_exc\u001b[0m\u001b[0;34m(\u001b[0m\u001b[0;34m)\u001b[0m\u001b[0;34m\u001b[0m\u001b[0;34m\u001b[0m\u001b[0m\n\u001b[0;32m-> 1837\u001b[0;31m             \u001b[0msys\u001b[0m\u001b[0;34m.\u001b[0m\u001b[0mexit\u001b[0m\u001b[0;34m(\u001b[0m\u001b[0;36m1\u001b[0m\u001b[0;34m)\u001b[0m\u001b[0;34m\u001b[0m\u001b[0;34m\u001b[0m\u001b[0m\n\u001b[0m\u001b[1;32m   1838\u001b[0m \u001b[0;34m\u001b[0m\u001b[0m\n",
            "\u001b[0;31mSystemExit\u001b[0m: 1",
            "\nDuring handling of the above exception, another exception occurred:\n",
            "\u001b[0;31mTypeError\u001b[0m                                 Traceback (most recent call last)",
            "    \u001b[0;31m[... skipping hidden 1 frame]\u001b[0m\n",
            "\u001b[0;32m/opt/g5k-jupyterlab/lib/python3.9/site-packages/IPython/core/interactiveshell.py\u001b[0m in \u001b[0;36mshowtraceback\u001b[0;34m(self, exc_tuple, filename, tb_offset, exception_only, running_compiled_code)\u001b[0m\n\u001b[1;32m   2068\u001b[0m                     stb = ['An exception has occurred, use %tb to see '\n\u001b[1;32m   2069\u001b[0m                            'the full traceback.\\n']\n\u001b[0;32m-> 2070\u001b[0;31m                     stb.extend(self.InteractiveTB.get_exception_only(etype,\n\u001b[0m\u001b[1;32m   2071\u001b[0m                                                                      value))\n\u001b[1;32m   2072\u001b[0m                 \u001b[0;32melse\u001b[0m\u001b[0;34m:\u001b[0m\u001b[0;34m\u001b[0m\u001b[0;34m\u001b[0m\u001b[0m\n",
            "\u001b[0;32m/opt/g5k-jupyterlab/lib/python3.9/site-packages/IPython/core/ultratb.py\u001b[0m in \u001b[0;36mget_exception_only\u001b[0;34m(self, etype, value)\u001b[0m\n\u001b[1;32m    752\u001b[0m         \u001b[0mvalue\u001b[0m \u001b[0;34m:\u001b[0m \u001b[0mexception\u001b[0m \u001b[0mvalue\u001b[0m\u001b[0;34m\u001b[0m\u001b[0;34m\u001b[0m\u001b[0m\n\u001b[1;32m    753\u001b[0m         \"\"\"\n\u001b[0;32m--> 754\u001b[0;31m         \u001b[0;32mreturn\u001b[0m \u001b[0mListTB\u001b[0m\u001b[0;34m.\u001b[0m\u001b[0mstructured_traceback\u001b[0m\u001b[0;34m(\u001b[0m\u001b[0mself\u001b[0m\u001b[0;34m,\u001b[0m \u001b[0metype\u001b[0m\u001b[0;34m,\u001b[0m \u001b[0mvalue\u001b[0m\u001b[0;34m)\u001b[0m\u001b[0;34m\u001b[0m\u001b[0;34m\u001b[0m\u001b[0m\n\u001b[0m\u001b[1;32m    755\u001b[0m \u001b[0;34m\u001b[0m\u001b[0m\n\u001b[1;32m    756\u001b[0m     \u001b[0;32mdef\u001b[0m \u001b[0mshow_exception_only\u001b[0m\u001b[0;34m(\u001b[0m\u001b[0mself\u001b[0m\u001b[0;34m,\u001b[0m \u001b[0metype\u001b[0m\u001b[0;34m,\u001b[0m \u001b[0mevalue\u001b[0m\u001b[0;34m)\u001b[0m\u001b[0;34m:\u001b[0m\u001b[0;34m\u001b[0m\u001b[0;34m\u001b[0m\u001b[0m\n",
            "\u001b[0;32m/opt/g5k-jupyterlab/lib/python3.9/site-packages/IPython/core/ultratb.py\u001b[0m in \u001b[0;36mstructured_traceback\u001b[0;34m(self, etype, evalue, etb, tb_offset, context)\u001b[0m\n\u001b[1;32m    627\u001b[0m             \u001b[0mchained_exceptions_tb_offset\u001b[0m \u001b[0;34m=\u001b[0m \u001b[0;36m0\u001b[0m\u001b[0;34m\u001b[0m\u001b[0;34m\u001b[0m\u001b[0m\n\u001b[1;32m    628\u001b[0m             out_list = (\n\u001b[0;32m--> 629\u001b[0;31m                 self.structured_traceback(\n\u001b[0m\u001b[1;32m    630\u001b[0m                     \u001b[0metype\u001b[0m\u001b[0;34m,\u001b[0m \u001b[0mevalue\u001b[0m\u001b[0;34m,\u001b[0m \u001b[0;34m(\u001b[0m\u001b[0metb\u001b[0m\u001b[0;34m,\u001b[0m \u001b[0mchained_exc_ids\u001b[0m\u001b[0;34m)\u001b[0m\u001b[0;34m,\u001b[0m\u001b[0;34m\u001b[0m\u001b[0;34m\u001b[0m\u001b[0m\n\u001b[1;32m    631\u001b[0m                     chained_exceptions_tb_offset, context)\n",
            "\u001b[0;32m/opt/g5k-jupyterlab/lib/python3.9/site-packages/IPython/core/ultratb.py\u001b[0m in \u001b[0;36mstructured_traceback\u001b[0;34m(self, etype, value, tb, tb_offset, number_of_lines_of_context)\u001b[0m\n\u001b[1;32m   1365\u001b[0m         \u001b[0;32melse\u001b[0m\u001b[0;34m:\u001b[0m\u001b[0;34m\u001b[0m\u001b[0;34m\u001b[0m\u001b[0m\n\u001b[1;32m   1366\u001b[0m             \u001b[0mself\u001b[0m\u001b[0;34m.\u001b[0m\u001b[0mtb\u001b[0m \u001b[0;34m=\u001b[0m \u001b[0mtb\u001b[0m\u001b[0;34m\u001b[0m\u001b[0;34m\u001b[0m\u001b[0m\n\u001b[0;32m-> 1367\u001b[0;31m         return FormattedTB.structured_traceback(\n\u001b[0m\u001b[1;32m   1368\u001b[0m             self, etype, value, tb, tb_offset, number_of_lines_of_context)\n\u001b[1;32m   1369\u001b[0m \u001b[0;34m\u001b[0m\u001b[0m\n",
            "\u001b[0;32m/opt/g5k-jupyterlab/lib/python3.9/site-packages/IPython/core/ultratb.py\u001b[0m in \u001b[0;36mstructured_traceback\u001b[0;34m(self, etype, value, tb, tb_offset, number_of_lines_of_context)\u001b[0m\n\u001b[1;32m   1265\u001b[0m         \u001b[0;32mif\u001b[0m \u001b[0mmode\u001b[0m \u001b[0;32min\u001b[0m \u001b[0mself\u001b[0m\u001b[0;34m.\u001b[0m\u001b[0mverbose_modes\u001b[0m\u001b[0;34m:\u001b[0m\u001b[0;34m\u001b[0m\u001b[0;34m\u001b[0m\u001b[0m\n\u001b[1;32m   1266\u001b[0m             \u001b[0;31m# Verbose modes need a full traceback\u001b[0m\u001b[0;34m\u001b[0m\u001b[0;34m\u001b[0m\u001b[0;34m\u001b[0m\u001b[0m\n\u001b[0;32m-> 1267\u001b[0;31m             return VerboseTB.structured_traceback(\n\u001b[0m\u001b[1;32m   1268\u001b[0m                 \u001b[0mself\u001b[0m\u001b[0;34m,\u001b[0m \u001b[0metype\u001b[0m\u001b[0;34m,\u001b[0m \u001b[0mvalue\u001b[0m\u001b[0;34m,\u001b[0m \u001b[0mtb\u001b[0m\u001b[0;34m,\u001b[0m \u001b[0mtb_offset\u001b[0m\u001b[0;34m,\u001b[0m \u001b[0mnumber_of_lines_of_context\u001b[0m\u001b[0;34m\u001b[0m\u001b[0;34m\u001b[0m\u001b[0m\n\u001b[1;32m   1269\u001b[0m             )\n",
            "\u001b[0;32m/opt/g5k-jupyterlab/lib/python3.9/site-packages/IPython/core/ultratb.py\u001b[0m in \u001b[0;36mstructured_traceback\u001b[0;34m(self, etype, evalue, etb, tb_offset, number_of_lines_of_context)\u001b[0m\n\u001b[1;32m   1122\u001b[0m         \u001b[0;34m\"\"\"Return a nice text document describing the traceback.\"\"\"\u001b[0m\u001b[0;34m\u001b[0m\u001b[0;34m\u001b[0m\u001b[0m\n\u001b[1;32m   1123\u001b[0m \u001b[0;34m\u001b[0m\u001b[0m\n\u001b[0;32m-> 1124\u001b[0;31m         formatted_exception = self.format_exception_as_a_whole(etype, evalue, etb, number_of_lines_of_context,\n\u001b[0m\u001b[1;32m   1125\u001b[0m                                                                tb_offset)\n\u001b[1;32m   1126\u001b[0m \u001b[0;34m\u001b[0m\u001b[0m\n",
            "\u001b[0;32m/opt/g5k-jupyterlab/lib/python3.9/site-packages/IPython/core/ultratb.py\u001b[0m in \u001b[0;36mformat_exception_as_a_whole\u001b[0;34m(self, etype, evalue, etb, number_of_lines_of_context, tb_offset)\u001b[0m\n\u001b[1;32m   1080\u001b[0m \u001b[0;34m\u001b[0m\u001b[0m\n\u001b[1;32m   1081\u001b[0m \u001b[0;34m\u001b[0m\u001b[0m\n\u001b[0;32m-> 1082\u001b[0;31m         \u001b[0mlast_unique\u001b[0m\u001b[0;34m,\u001b[0m \u001b[0mrecursion_repeat\u001b[0m \u001b[0;34m=\u001b[0m \u001b[0mfind_recursion\u001b[0m\u001b[0;34m(\u001b[0m\u001b[0morig_etype\u001b[0m\u001b[0;34m,\u001b[0m \u001b[0mevalue\u001b[0m\u001b[0;34m,\u001b[0m \u001b[0mrecords\u001b[0m\u001b[0;34m)\u001b[0m\u001b[0;34m\u001b[0m\u001b[0;34m\u001b[0m\u001b[0m\n\u001b[0m\u001b[1;32m   1083\u001b[0m \u001b[0;34m\u001b[0m\u001b[0m\n\u001b[1;32m   1084\u001b[0m         \u001b[0mframes\u001b[0m \u001b[0;34m=\u001b[0m \u001b[0mself\u001b[0m\u001b[0;34m.\u001b[0m\u001b[0mformat_records\u001b[0m\u001b[0;34m(\u001b[0m\u001b[0mrecords\u001b[0m\u001b[0;34m,\u001b[0m \u001b[0mlast_unique\u001b[0m\u001b[0;34m,\u001b[0m \u001b[0mrecursion_repeat\u001b[0m\u001b[0;34m)\u001b[0m\u001b[0;34m\u001b[0m\u001b[0;34m\u001b[0m\u001b[0m\n",
            "\u001b[0;32m/opt/g5k-jupyterlab/lib/python3.9/site-packages/IPython/core/ultratb.py\u001b[0m in \u001b[0;36mfind_recursion\u001b[0;34m(etype, value, records)\u001b[0m\n\u001b[1;32m    380\u001b[0m     \u001b[0;31m# first frame (from in to out) that looks different.\u001b[0m\u001b[0;34m\u001b[0m\u001b[0;34m\u001b[0m\u001b[0;34m\u001b[0m\u001b[0m\n\u001b[1;32m    381\u001b[0m     \u001b[0;32mif\u001b[0m \u001b[0;32mnot\u001b[0m \u001b[0mis_recursion_error\u001b[0m\u001b[0;34m(\u001b[0m\u001b[0metype\u001b[0m\u001b[0;34m,\u001b[0m \u001b[0mvalue\u001b[0m\u001b[0;34m,\u001b[0m \u001b[0mrecords\u001b[0m\u001b[0;34m)\u001b[0m\u001b[0;34m:\u001b[0m\u001b[0;34m\u001b[0m\u001b[0;34m\u001b[0m\u001b[0m\n\u001b[0;32m--> 382\u001b[0;31m         \u001b[0;32mreturn\u001b[0m \u001b[0mlen\u001b[0m\u001b[0;34m(\u001b[0m\u001b[0mrecords\u001b[0m\u001b[0;34m)\u001b[0m\u001b[0;34m,\u001b[0m \u001b[0;36m0\u001b[0m\u001b[0;34m\u001b[0m\u001b[0;34m\u001b[0m\u001b[0m\n\u001b[0m\u001b[1;32m    383\u001b[0m \u001b[0;34m\u001b[0m\u001b[0m\n\u001b[1;32m    384\u001b[0m     \u001b[0;31m# Select filename, lineno, func_name to track frames with\u001b[0m\u001b[0;34m\u001b[0m\u001b[0;34m\u001b[0m\u001b[0;34m\u001b[0m\u001b[0m\n",
            "\u001b[0;31mTypeError\u001b[0m: object of type 'NoneType' has no len()"
          ]
        }
      ],
      "source": [
        "trainer.fit()"
      ]
    }
  ],
  "metadata": {
    "kernelspec": {
      "display_name": "Python 3 (ipykernel)",
      "language": "python",
      "name": "python3"
    },
    "language_info": {
      "codemirror_mode": {
        "name": "ipython",
        "version": 3
      },
      "file_extension": ".py",
      "mimetype": "text/x-python",
      "name": "python",
      "nbconvert_exporter": "python",
      "pygments_lexer": "ipython3",
      "version": "3.9.2"
    },
    "colab": {
      "provenance": []
    }
  },
  "nbformat": 4,
  "nbformat_minor": 5
}